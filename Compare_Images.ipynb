{
 "cells": [
  {
   "cell_type": "code",
   "execution_count": 2,
   "metadata": {},
   "outputs": [],
   "source": [
    "# library imports\n",
    "import csv\n",
    "import nltk\n",
    "import pandas as pd\n",
    "import numpy as np"
   ]
  },
  {
   "cell_type": "code",
   "execution_count": 3,
   "metadata": {},
   "outputs": [],
   "source": [
    "# import NDP file (~3GB of plain text)\n",
    "ndp_file = \"/Users/jessicawilliams/ipsw-files/227-www-ndp-ca.txt\""
   ]
  },
  {
   "cell_type": "code",
   "execution_count": 4,
   "metadata": {},
   "outputs": [],
   "source": [
    "# load the NDP plain text as a dataframe\n",
    "df = pd.read_csv(ndp_file, sep = \",\", usecols=[0,1,2,3], header=None, error_bad_lines=False, quoting=csv.QUOTE_NONE)\n",
    "df = df.sort_values(0)"
   ]
  },
  {
   "cell_type": "code",
   "execution_count": 5,
   "metadata": {},
   "outputs": [],
   "source": [
    "# find a homepage to focus on for the diffs\n",
    "homepages = df.loc[df[2] == \"http://www.ndp.ca/\"]"
   ]
  },
  {
   "cell_type": "code",
   "execution_count": 6,
   "metadata": {},
   "outputs": [],
   "source": [
    "# how many homepages are there?\n",
    "len(homepages);"
   ]
  },
  {
   "cell_type": "code",
   "execution_count": 7,
   "metadata": {},
   "outputs": [],
   "source": [
    "# let's look at one record\n",
    "# should be the first crawl in the collection\n",
    "homepages.iloc[0].tolist();"
   ]
  },
  {
   "cell_type": "code",
   "execution_count": 8,
   "metadata": {},
   "outputs": [],
   "source": [
    "# let's now iterate through each pair of pages, diffing them \n",
    "# with each other. \n",
    "# we then create a list of lists, which can feed into a DF\n",
    "#\n",
    "\n",
    "final = []\n",
    "for y in range (0,len(homepages)-1):\n",
    "    first_page = homepages.iloc[y].tolist()\n",
    "    second_page = homepages.iloc[y+1].tolist()\n",
    "    distance = nltk.edit_distance(first_page[3],second_page[3])\n",
    "    data = first_page[0],first_page[2],second_page[0],second_page[2],distance\n",
    "    final.append(list(data))"
   ]
  },
  {
   "cell_type": "code",
   "execution_count": 9,
   "metadata": {},
   "outputs": [],
   "source": [
    "ndp_diffs = pd.DataFrame(final, columns=['origin_date','origin_url','target_date','target_url','diff'])"
   ]
  },
  {
   "cell_type": "code",
   "execution_count": 10,
   "metadata": {},
   "outputs": [],
   "source": [
    "# let's see the pages with the largest diffs\n",
    "\n",
    "sorted = ndp_diffs.sort_values('diff',ascending=False)"
   ]
  },
  {
   "cell_type": "markdown",
   "metadata": {},
   "source": [
    "# Screenshot the Fifteen Biggest Diffs?"
   ]
  },
  {
   "cell_type": "code",
   "execution_count": 15,
   "metadata": {
    "scrolled": true
   },
   "outputs": [],
   "source": [
    "biggest_diffs = []\n",
    "for x in range(0,14):\n",
    "    biggest_diffs.append(\"https://wayback.archive-it.org/227/\" + sorted.iloc[x].tolist()[2][1:] + \"/\" + sorted.iloc[x].tolist()[3])"
   ]
  },
  {
   "cell_type": "code",
   "execution_count": 16,
   "metadata": {},
   "outputs": [],
   "source": [
    "from selenium import webdriver\n",
    "\n",
    "DRIVER = 'chromedriver'\n",
    "driver = webdriver.Chrome(DRIVER)\n",
    "\n",
    "count=1\n",
    "for page in biggest_diffs:\n",
    "    driver.get(page);\n",
    "    export_file=str(count)+\"-ndp.png\"\n",
    "    count=count+1\n",
    "    screenshot = driver.save_screenshot(export_file)\n",
    "    \n",
    "driver.quit()"
   ]
  },
  {
   "cell_type": "code",
   "execution_count": 28,
   "metadata": {},
   "outputs": [],
   "source": [
    "# import the necessary packages\n",
    "from skimage import measure # pip3 install scikit-image\n",
    "import matplotlib.pyplot as plt\n",
    "import matplotlib.pyplot as plt\n",
    "import matplotlib.image as mpimg\n",
    "import numpy as np\n",
    "import cv2"
   ]
  },
  {
   "cell_type": "code",
   "execution_count": 48,
   "metadata": {},
   "outputs": [],
   "source": [
    "def mse(imageA, imageB):\n",
    "\t# the 'Mean Squared Error' between the two images is the\n",
    "\t# sum of the squared difference between the two images;\n",
    "\t# NOTE: the two images must have the same dimension\n",
    "\terr = np.sum((imageA.astype(\"float\") - imageB.astype(\"float\")) ** 2)\n",
    "\terr /= float(imageA.shape[0] * imageA.shape[1])\n",
    "\t\n",
    "\t# return the MSE, the lower the error, the more \"similar\"\n",
    "\t# the two images are\n",
    "\treturn err\n",
    "\n",
    "def compare_images(imageA, imageB, title):\n",
    "\t# compute the mean squared error and structural similarity\n",
    "\t# index for the images\n",
    "\tm = mse(imageA, imageB)\n",
    "\ts = measure.compare_ssim(imageA, imageB)\n",
    "\n",
    "\t# setup the figure\n",
    "\tfig = plt.figure(title)\n",
    "\tplt.suptitle(\"MSE: %.2f, SSIM: %.2f\" % (m, s))\n",
    "\n",
    "\t# show first image\n",
    "\tax = fig.add_subplot(1, 2, 1)\n",
    "\tplt.imshow(imageA, cmap = plt.cm.gray)\n",
    "\tplt.axis(\"off\")\n",
    "\n",
    "\t# show the second image\n",
    "\tax = fig.add_subplot(1, 2, 2)\n",
    "\tplt.imshow(imageB, cmap = plt.cm.gray)\n",
    "\tplt.axis(\"off\")\n",
    "\n",
    "\t# show the images\n",
    "\tplt.show()"
   ]
  },
  {
   "cell_type": "code",
   "execution_count": 51,
   "metadata": {},
   "outputs": [],
   "source": [
    "# load the images -- the original, the original + contrast,\n",
    "# and the original + photoshop\n",
    "old = cv2.imread(\"/Users/jessicawilliams/ipsw-quantifying-change/ndp-diff-images/edit-distance/01-ORIGIN-ndp.png\")\n",
    "new = cv2.imread(\"/Users/jessicawilliams/ipsw-quantifying-change/ndp-diff-images/edit-distance/01-TARGET-ndp.png\")\n",
    " \n",
    "# convert the images to grayscale\n",
    "old = cv2.cvtColor(old, cv2.COLOR_BGR2GRAY)\n",
    "new = cv2.cvtColor(new, cv2.COLOR_BGR2GRAY)\n",
    "\n",
    "# fig = plt.figure()\n",
    "# fig.add_subplot(1, 2, 1)\n",
    "# plt.imshow(old, cmap = plt.cm.gray)\n",
    "# fig.add_subplot(1,2,2)\n",
    "# plt.imshow(new, cmap = plt.cm.gray)"
   ]
  },
  {
   "cell_type": "code",
   "execution_count": 52,
   "metadata": {},
   "outputs": [
    {
     "data": {
      "image/png": "[encoded data removed]",
      "text/plain": [
       "<Figure size 432x288 with 2 Axes>"
      ]
     },
     "metadata": {
      "needs_background": "light"
     },
     "output_type": "display_data"
    }
   ],
   "source": [
    "# compare the images\n",
    "compare_images(old, new, \"Old vs. New\")"
   ]
  },
  {
   "cell_type": "code",
   "execution_count": null,
   "metadata": {},
   "outputs": [],
   "source": []
  }
 ],
 "metadata": {
  "kernelspec": {
   "display_name": "Python 3",
   "language": "python",
   "name": "python3"
  },
  "language_info": {
   "codemirror_mode": {
    "name": "ipython",
    "version": 3
   },
   "file_extension": ".py",
   "mimetype": "text/x-python",
   "name": "python",
   "nbconvert_exporter": "python",
   "pygments_lexer": "ipython3",
   "version": "3.7.3"
  }
 },
 "nbformat": 4,
 "nbformat_minor": 2
}
