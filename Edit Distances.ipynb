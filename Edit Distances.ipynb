{
 "cells": [
  {
   "cell_type": "code",
   "execution_count": 1,
   "metadata": {},
   "outputs": [],
   "source": [
    "# import a sample file with 10,000 lines\n",
    "file = \"/Users/ianmilligan1/desktop/10000-lines.csv\""
   ]
  },
  {
   "cell_type": "code",
   "execution_count": 2,
   "metadata": {},
   "outputs": [],
   "source": [
    "# library imports\n",
    "import nltk\n",
    "import pandas as pd\n",
    "import numpy as np"
   ]
  },
  {
   "cell_type": "code",
   "execution_count": 3,
   "metadata": {},
   "outputs": [],
   "source": [
    "# read the file and set it up (using first four columns, no header)\n",
    "df = pd.read_csv(file, sep = \",\", usecols=[0,1,2,3], header=None)"
   ]
  },
  {
   "cell_type": "code",
   "execution_count": 7,
   "metadata": {},
   "outputs": [],
   "source": [
    "# this finds the duplicates in column 2\n",
    "# these are all URLs that appear more than once\n",
    "dups = pd.concat(g for _, g in df.groupby(2) if len(g) > 1)"
   ]
  },
  {
   "cell_type": "code",
   "execution_count": 13,
   "metadata": {},
   "outputs": [],
   "source": [
    "# these are all of the URLs that appear in this dataset\n",
    "urls = dups[2].unique()"
   ]
  },
  {
   "cell_type": "code",
   "execution_count": 23,
   "metadata": {},
   "outputs": [
    {
     "data": {
      "text/plain": [
       "'http://www.ndp.ca/contact/'"
      ]
     },
     "execution_count": 23,
     "metadata": {},
     "output_type": "execute_result"
    }
   ],
   "source": [
    "urls[0]"
   ]
  },
  {
   "cell_type": "code",
   "execution_count": 41,
   "metadata": {},
   "outputs": [],
   "source": [
    "# this saves the duplicate URLs in the collection \n",
    "# right now need to change variable - script later?\n",
    "first = dups[dups[2].str.contains(urls[0])]"
   ]
  },
  {
   "cell_type": "code",
   "execution_count": 44,
   "metadata": {},
   "outputs": [],
   "source": [
    "# save strings to a list\n",
    "text = first[3].tolist()"
   ]
  },
  {
   "cell_type": "code",
   "execution_count": 48,
   "metadata": {},
   "outputs": [
    {
     "name": "stdout",
     "output_type": "stream",
     "text": [
      "391\n",
      "430\n"
     ]
    }
   ],
   "source": [
    "# example of edit distance on one of these URLs\n",
    "for x in range(1,len(text)):\n",
    "    print(nltk.edit_distance(text[x-1],text[x]))"
   ]
  },
  {
   "cell_type": "code",
   "execution_count": 64,
   "metadata": {},
   "outputs": [
    {
     "name": "stdout",
     "output_type": "stream",
     "text": [
      "(20061020 (20080113\n",
      "391\n",
      "(20080113 (20060523\n",
      "430\n"
     ]
    }
   ],
   "source": [
    "# all together, just need to change the urls list value now\n",
    "data = dups[dups[2].str.contains(urls[0])][3].tolist()\n",
    "dates = dups[dups[2].str.contains(urls[0])][0].tolist()\n",
    "for x in range(1,len(data)):\n",
    "    print(dates[x-1],dates[x])\n",
    "    print(nltk.edit_distance(data[x-1],data[x]))\n",
    "    \n",
    "# shows edit distance between two dates\n",
    "# now need to get in order"
   ]
  },
  {
   "cell_type": "code",
   "execution_count": null,
   "metadata": {},
   "outputs": [],
   "source": []
  },
  {
   "cell_type": "code",
   "execution_count": null,
   "metadata": {},
   "outputs": [],
   "source": []
  }
 ],
 "metadata": {
  "kernelspec": {
   "display_name": "Python 3",
   "language": "python",
   "name": "python3"
  },
  "language_info": {
   "codemirror_mode": {
    "name": "ipython",
    "version": 3
   },
   "file_extension": ".py",
   "mimetype": "text/x-python",
   "name": "python",
   "nbconvert_exporter": "python",
   "pygments_lexer": "ipython3",
   "version": "3.5.6"
  }
 },
 "nbformat": 4,
 "nbformat_minor": 1
}
