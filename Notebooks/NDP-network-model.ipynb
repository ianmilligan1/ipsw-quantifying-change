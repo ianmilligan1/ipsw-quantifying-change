{
 "cells": [
  {
   "cell_type": "code",
   "execution_count": 1,
   "metadata": {},
   "outputs": [],
   "source": [
    "# library imports\n",
    "import csv\n",
    "import nltk\n",
    "import pandas as pd\n",
    "import numpy as np\n",
    "import matplotlib.pyplot as plt"
   ]
  },
  {
   "cell_type": "code",
   "execution_count": 4,
   "metadata": {},
   "outputs": [],
   "source": [
    "# import links file\n",
    "file = \"../Data/ndp_links_all_layers.txt\""
   ]
  },
  {
   "cell_type": "code",
   "execution_count": 44,
   "metadata": {},
   "outputs": [
    {
     "name": "stdout",
     "output_type": "stream",
     "text": [
      "                 0                                                  1  \\\n",
      "3428    ((20100803  http://www.ndp.ca/category/story-type/press-re...   \n",
      "472872  ((20100803  http://www.ndp.ca/print/category/related-conte...   \n",
      "149732  ((20100803  http://www.ndp.ca/category/related-content/lab...   \n",
      "2819    ((20100803  http://www.ndp.ca/category/story-type/speeches...   \n",
      "472299  ((20100803  http://www.ndp.ca/print/category/related-conte...   \n",
      "147409  ((20100803  http://www.ndp.ca/category/related-content/par...   \n",
      "144313  ((20100803  http://www.ndp.ca/category/related-content/hum...   \n",
      "4132    ((20100803   http://www.ndp.ca/category/story-type/fact-check   \n",
      "2845    ((20100803  http://www.ndp.ca/category/story-type/statemen...   \n",
      "1921    ((20100803  http://www.ndp.ca/category/story-type/press-re...   \n",
      "140999  ((20100803          http://www.ndp.ca/print/taxonomy/term/158   \n",
      "384551  ((20100803  http://www.ndp.ca/print/category/related-conte...   \n",
      "168571  ((20100803          http://www.ndp.ca/print/taxonomy/term/158   \n",
      "230701  ((20100803  http://www.ndp.ca/category/related-content/cle...   \n",
      "468048  ((20100803  http://www.ndp.ca/print/category/related-conte...   \n",
      "4113    ((20100803  http://www.ndp.ca/category/story-type/statemen...   \n",
      "939     ((20100803  http://www.ndp.ca/category/story-type/press-re...   \n",
      "940     ((20100803  http://www.ndp.ca/category/story-type/press-re...   \n",
      "1844    ((20100803  http://www.ndp.ca/category/story-type/press-re...   \n",
      "747     ((20100803  http://www.ndp.ca/category/story-type/press-re...   \n",
      "541843  ((20100803  http://www.ndp.ca/print/category/related-conte...   \n",
      "1930    ((20100803  http://www.ndp.ca/category/story-type/statemen...   \n",
      "474473  ((20100803  http://www.ndp.ca/print/category/related-conte...   \n",
      "4255    ((20100803  http://www.ndp.ca/category/story-type/statemen...   \n",
      "298     ((20100803  http://www.ndp.ca/print/category/related-conte...   \n",
      "166740  ((20100803  http://www.ndp.ca/category/related-content/lab...   \n",
      "2748    ((20100803   http://www.ndp.ca/category/story-type/statements   \n",
      "190409  ((20100803                http://www.ndp.ca/taxonomy/term/158   \n",
      "2764    ((20100803  http://www.ndp.ca/category/story-type/statemen...   \n",
      "2001    ((20100803  http://www.ndp.ca/category/story-type/speeches...   \n",
      "...            ...                                                ...   \n",
      "591808  ((20150508  http://www.ndp.ca/news/recent/sites/all/themes...   \n",
      "279528  ((20150508  http://www.ndp.ca/news/recent/modules/node/sit...   \n",
      "223355  ((20150508  http://www.ndp.ca/news/recent/sites/all/module...   \n",
      "279527  ((20150508  http://www.ndp.ca/news/recent/sites/all/module...   \n",
      "591559  ((20150508  http://www.ndp.ca/news/recent/sites/all/module...   \n",
      "223353  ((20150508  http://www.ndp.ca/news/recent/sites/all/themes...   \n",
      "310533  ((20150508  http://www.ndp.ca/news/recent/modules/field/th...   \n",
      "262302  ((20150508  http://www.ndp.ca/news/recent/modules/node/sit...   \n",
      "279498  ((20150508  http://www.ndp.ca/news/recent/modules/node/sit...   \n",
      "310524  ((20150508  http://www.ndp.ca/news/recent/sites/all/module...   \n",
      "591400  ((20150508  http://www.ndp.ca/news/recent/sites/all/themes...   \n",
      "270179  ((20150508  http://www.ndp.ca/news/recent/sites/all/module...   \n",
      "660612  ((20150508  http://www.ndp.ca/news/recent/sites/all/module...   \n",
      "591415  ((20150508  http://www.ndp.ca/news/recent/sites/all/module...   \n",
      "310501  ((20150508  http://www.ndp.ca/news/recent/misc/sites/all/t...   \n",
      "205832  ((20150508  http://www.ndp.ca/news/recent/misc/sites/all/m...   \n",
      "444124  ((20150508  http://www.ndp.ca/news/recent/sites/all/module...   \n",
      "310483  ((20150508  http://www.ndp.ca/news/recent/sites/all/themes...   \n",
      "660583  ((20150508  http://www.ndp.ca/news/recent/sites/all/module...   \n",
      "270172  ((20150508  http://www.ndp.ca/news/recent/sites/all/module...   \n",
      "205816  ((20150508  http://www.ndp.ca/news/recent/misc/sites/all/t...   \n",
      "240200  ((20150508  http://www.ndp.ca/news/recent/modules/node/sit...   \n",
      "444075  ((20150508  http://www.ndp.ca/news/recent/sites/all/module...   \n",
      "591531  ((20150508  http://www.ndp.ca/news/recent/sites/all/module...   \n",
      "682491  ((20150508  http://www.ndp.ca/news/recent/modules/node/sit...   \n",
      "270167  ((20150508  http://www.ndp.ca/news/recent/modules/field/th...   \n",
      "205804  ((20150508  http://www.ndp.ca/news/recent/modules/node/sit...   \n",
      "318777  ((20150508  http://www.ndp.ca/news/recent/sites/all/module...   \n",
      "497300  ((20151105       http://www.ndp.ca/a-message-from-Tom-Mulcair   \n",
      "551327  ((20151105  http://www.ndp.ca/what-theyre-saying-about-tom...   \n",
      "\n",
      "                                                        2    3  \n",
      "3428                    http://www.youtube.com/ndpcanada)  10)  \n",
      "472872  http://www.ndp.ca/javascript%3Atextsize.toggle...   6)  \n",
      "149732     http://digg.com/submit?url=http://www.ndp.ca/)   8)  \n",
      "2819       http://digg.com/submit?url=http://www.ndp.ca/)  10)  \n",
      "472299                     http://www.ndp.ca/your-riding)   6)  \n",
      "147409                http://www.facebook.com/JackLayton)   8)  \n",
      "144313                     http://twitter.com/jacklayton)   8)  \n",
      "4132    http://stumbleupon.com/submit?url=http://www.n...  10)  \n",
      "2845       http://digg.com/submit?url=http://www.ndp.ca/)  10)  \n",
      "1921                  http://www.facebook.com/JackLayton)  11)  \n",
      "140999  http://www.ndp.ca/taxonomy/term/taxonomy/term/...   8)  \n",
      "384551                http://www.facebook.com/JackLayton)   6)  \n",
      "168571                    http://www.ndp.ca/C311-adopted)   8)  \n",
      "230701                     http://twitter.com/jacklayton)   7)  \n",
      "468048  http://facebook.com/share.php?&u=http://www.nd...   6)  \n",
      "4113       http://digg.com/submit?url=http://www.ndp.ca/)  10)  \n",
      "939                        http://twitter.com/jacklayton)  12)  \n",
      "940                        http://twitter.com/jacklayton)  12)  \n",
      "1844                  http://www.facebook.com/JackLayton)  11)  \n",
      "747                        http://twitter.com/jacklayton)  12)  \n",
      "541843  http://facebook.com/share.php?&u=http://www.nd...   6)  \n",
      "1930                  http://www.facebook.com/JackLayton)  11)  \n",
      "474473                     http://www.ndp.ca/your-riding)   6)  \n",
      "4255    http://facebook.com/share.php?&u=http://www.nd...  10)  \n",
      "298                         http://www.ndp.ca/retirement)  27)  \n",
      "166740                  http://www.youtube.com/ndpcanada)   8)  \n",
      "2748    http://stumbleupon.com/submit?url=http://www.n...  10)  \n",
      "190409                  http://www.youtube.com/ndpcanada)   8)  \n",
      "2764    http://stumbleupon.com/submit?url=http://www.n...  10)  \n",
      "2001                       http://twitter.com/jacklayton)  11)  \n",
      "...                                                   ...  ...  \n",
      "591808                            http://www.ndp.ca/join)   6)  \n",
      "279528                          http://www.ndp.ca/donate)   7)  \n",
      "223355                          http://www.ndp.ca/donate)   7)  \n",
      "279527                          http://www.ndp.ca/donate)   7)  \n",
      "591559                            http://www.ndp.ca/join)   6)  \n",
      "223353                          http://www.ndp.ca/donate)   7)  \n",
      "310533                            http://www.ndp.ca/join)   6)  \n",
      "262302                          http://www.ndp.ca/donate)   7)  \n",
      "279498                          http://www.ndp.ca/donate)   7)  \n",
      "310524                            http://www.ndp.ca/join)   6)  \n",
      "591400                            http://www.ndp.ca/join)   6)  \n",
      "270179                          http://www.ndp.ca/donate)   7)  \n",
      "660612                            http://www.ndp.ca/join)   6)  \n",
      "591415                            http://www.ndp.ca/join)   6)  \n",
      "310501                            http://www.ndp.ca/join)   6)  \n",
      "205832                          http://www.ndp.ca/donate)   7)  \n",
      "444124                            http://www.ndp.ca/join)   6)  \n",
      "310483                            http://www.ndp.ca/join)   6)  \n",
      "660583                            http://www.ndp.ca/join)   6)  \n",
      "270172                          http://www.ndp.ca/donate)   7)  \n",
      "205816                          http://www.ndp.ca/donate)   7)  \n",
      "240200                          http://www.ndp.ca/donate)   7)  \n",
      "444075                            http://www.ndp.ca/join)   6)  \n",
      "591531                            http://www.ndp.ca/join)   6)  \n",
      "682491                            http://www.ndp.ca/join)   6)  \n",
      "270167                          http://www.ndp.ca/donate)   7)  \n",
      "205804                          http://www.ndp.ca/donate)   7)  \n",
      "318777                            http://www.ndp.ca/join)   6)  \n",
      "497300      http://www.ndp.ca/a-message-from-Tom-Mulcair)   6)  \n",
      "551327  http://www.ndp.ca/what-theyre-saying-about-tom...   6)  \n",
      "\n",
      "[692685 rows x 4 columns]\n"
     ]
    }
   ],
   "source": [
    "# load the NDP plain text as a dataframe\n",
    "df = pd.read_csv(file, sep = \",\", usecols=[0,1,2,3], header=None, error_bad_lines=False, quoting=csv.QUOTE_NONE)\n",
    "df = df.sort_values(0)\n",
    "print(df)"
   ]
  },
  {
   "cell_type": "code",
   "execution_count": 45,
   "metadata": {},
   "outputs": [
    {
     "name": "stdout",
     "output_type": "stream",
     "text": [
      "['08/10' '05/11' '08/11' '11/11' '02/12' '05/12' '08/12' '11/12' '02/13'\n",
      " '05/13' '08/13' '11/13' '02/14' '05/14' '08/14' '11/14' '02/15' '05/15'\n",
      " '11/15']\n"
     ]
    }
   ],
   "source": [
    "# Convert all dates to just month and year as some\n",
    "# crawls took more than one day\n",
    "\n",
    "df[0] = df[0].str[6:8] + \"/\" + df[0].str[4:6]\n",
    "# Find the different crawl dates\n",
    "times = df[0].unique()\n",
    "print(times)"
   ]
  },
  {
   "cell_type": "code",
   "execution_count": 60,
   "metadata": {},
   "outputs": [
    {
     "name": "stdout",
     "output_type": "stream",
     "text": [
      "97082\n",
      "141\n",
      "97223\n",
      "97223\n"
     ]
    }
   ],
   "source": [
    "# Find all the unique pages across all time stamps\n",
    "pages = (df[1].unique()).tolist()\n",
    "\n",
    "#print(df[1].unique())\n",
    "#print(df[2].unique())\n",
    "\n",
    "print(len(pages))\n",
    "print(len(df[2].unique()))\n",
    "pages.extend((df[2].unique()).tolist())\n",
    "print(len(pages))\n",
    "\n",
    "pages = set(pages)\n",
    "print(len(pages))\n",
    "\n",
    "# This suggests that there are no \"linked to\" pages that then link back and thus we have a bipartite graph\n",
    "# https://en.wikipedia.org/wiki/Bipartite_graph"
   ]
  },
  {
   "cell_type": "code",
   "execution_count": 61,
   "metadata": {},
   "outputs": [],
   "source": [
    "# Loop of all different dates\n",
    "for y in range (0,2):#,len(times)-1):\n",
    "    # Find each row of data with the correct crawl date\n",
    "    links_t0 = df.loc[df[0] == times[y]]\n",
    "    \n",
    "    # Construct matrix with the webpages down the side and across the top.\n",
    "    # There is a a 1 if there is a link from the origin webpage in that row to the destination link in that column\n",
    "    # This matrix completely describes the network\n",
    "    # Then, there are several metrics that can be used to quantify change of a network"
   ]
  },
  {
   "cell_type": "code",
   "execution_count": null,
   "metadata": {},
   "outputs": [],
   "source": []
  }
 ],
 "metadata": {
  "kernelspec": {
   "display_name": "Python 3",
   "language": "python",
   "name": "python3"
  },
  "language_info": {
   "codemirror_mode": {
    "name": "ipython",
    "version": 3
   },
   "file_extension": ".py",
   "mimetype": "text/x-python",
   "name": "python",
   "nbconvert_exporter": "python",
   "pygments_lexer": "ipython3",
   "version": "3.6.7"
  }
 },
 "nbformat": 4,
 "nbformat_minor": 2
}
