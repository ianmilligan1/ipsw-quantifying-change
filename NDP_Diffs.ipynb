{
 "cells": [
  {
   "cell_type": "markdown",
   "metadata": {},
   "source": [
    "# Exploring Diffs in the NDP Plain Text File"
   ]
  },
  {
   "cell_type": "code",
   "execution_count": 1,
   "metadata": {},
   "outputs": [],
   "source": [
    "# library imports\n",
    "import csv\n",
    "import nltk\n",
    "import pandas as pd\n",
    "import numpy as np"
   ]
  },
  {
   "cell_type": "code",
   "execution_count": 3,
   "metadata": {},
   "outputs": [],
   "source": [
    "# import NDP file (~3GB of plain text)\n",
    "ndp_file = \"/Users/ianmilligan1/Desktop/227-www-ndp-ca.csv\""
   ]
  },
  {
   "cell_type": "code",
   "execution_count": 4,
   "metadata": {},
   "outputs": [],
   "source": [
    "# load the NDP plain text as a dataframe\n",
    "df = pd.read_csv(ndp_file, sep = \",\", usecols=[0,1,2,3], header=None, error_bad_lines=False, quoting=csv.QUOTE_NONE)\n",
    "df = df.sort_values(0)"
   ]
  },
  {
   "cell_type": "code",
   "execution_count": 5,
   "metadata": {},
   "outputs": [],
   "source": [
    "# find a homepage to focus on for the diffs\n",
    "homepages = df.loc[df[2] == \"http://www.ndp.ca/\"]"
   ]
  },
  {
   "cell_type": "code",
   "execution_count": 7,
   "metadata": {},
   "outputs": [
    {
     "data": {
      "text/plain": [
       "90"
      ]
     },
     "execution_count": 7,
     "metadata": {},
     "output_type": "execute_result"
    }
   ],
   "source": [
    "# how many homepages are there?\n",
    "len(homepages)"
   ]
  },
  {
   "cell_type": "code",
   "execution_count": 8,
   "metadata": {},
   "outputs": [
    {
     "data": {
      "text/plain": [
       "['(20051007',\n",
       " 'www.ndp.ca',\n",
       " 'http://www.ndp.ca/',\n",
       " \"NDP | The New Democratic Party of Canada ABOUT ›\\xa0Jack Layton ›\\xa0Our Caucus ›\\xa0Our History ›\\xa0Contact Us GET INVOLVED ›\\xa0Your Riding ›\\xa0Campaigns ›\\xa0Events ›\\xa0Youth RESOURCES ›\\xa0Press Room ›\\xa0Speeches & Articles ›\\xa0Downloads ›\\xa0e.NDP ›\\xa0More... SEARCH ›\\xa0Français\\xa0 › NDP Budget Details › Jack's Budget Speech › Quotes on NDP Budget › Session in Review Privacy Policy |\\xa0Jobs |\\xa0RSS © 2005 New Democratic Party\"]"
      ]
     },
     "execution_count": 8,
     "metadata": {},
     "output_type": "execute_result"
    }
   ],
   "source": [
    "# let's look at one record\n",
    "# should be the first crawl in the collection\n",
    "homepages.iloc[0].tolist()"
   ]
  },
  {
   "cell_type": "code",
   "execution_count": null,
   "metadata": {},
   "outputs": [],
   "source": [
    "# let's now iterate through each pair of pages, diffing them \n",
    "# with each other. \n",
    "# we then create a list of lists, which can feed into a DF\n",
    "#\n",
    "\n",
    "final = []\n",
    "for y in range (0,len(homepages)-1):\n",
    "    first_page = homepages.iloc[y].tolist()\n",
    "    second_page = homepages.iloc[y+1].tolist()\n",
    "    distance = nltk.edit_distance(first_page[3],second_page[3])\n",
    "    data = first_page[0],first_page[2],second_page[0],second_page[2],distance\n",
    "    final.append(list(data))"
   ]
  },
  {
   "cell_type": "code",
   "execution_count": null,
   "metadata": {},
   "outputs": [],
   "source": [
    "ndp_diffs = pd.DataFrame(final, columns=['origin_date','origin_url','target_date','target_url','diff'])"
   ]
  },
  {
   "cell_type": "code",
   "execution_count": null,
   "metadata": {},
   "outputs": [],
   "source": [
    "# let's see the pages with the largest diffs\n",
    "\n",
    "ndp_diffs.sort_values('diff',ascending=False)"
   ]
  },
  {
   "cell_type": "code",
   "execution_count": null,
   "metadata": {},
   "outputs": [],
   "source": []
  }
 ],
 "metadata": {
  "kernelspec": {
   "display_name": "Python 3",
   "language": "python",
   "name": "python3"
  },
  "language_info": {
   "codemirror_mode": {
    "name": "ipython",
    "version": 3
   },
   "file_extension": ".py",
   "mimetype": "text/x-python",
   "name": "python",
   "nbconvert_exporter": "python",
   "pygments_lexer": "ipython3",
   "version": "3.5.6"
  }
 },
 "nbformat": 4,
 "nbformat_minor": 1
}
